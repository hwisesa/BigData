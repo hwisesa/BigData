{
 "cells": [
  {
   "cell_type": "code",
   "execution_count": 1,
   "metadata": {},
   "outputs": [
    {
     "name": "stderr",
     "output_type": "stream",
     "text": [
      "C:\\Users\\Ari Wibisono\\Anaconda3\\lib\\site-packages\\h5py\\__init__.py:36: FutureWarning: Conversion of the second argument of issubdtype from `float` to `np.floating` is deprecated. In future, it will be treated as `np.float64 == np.dtype(float).type`.\n",
      "  from ._conv import register_converters as _register_converters\n"
     ]
    },
    {
     "name": "stdout",
     "output_type": "stream",
     "text": [
      "<HDF5 dataset \"dataset_1\": shape (998, 532), type \"<f8\">\n",
      "Train data  : (998, 532)\n",
      "Test data   : (299, 532)\n",
      "Train labels: (998,)\n",
      "Test labels : (299,)\n",
      "LR: 0.886288\n",
      "LDA: 0.993311\n",
      "KNN: 0.742475\n",
      "CART: 0.989967\n",
      "RF: 0.996656\n",
      "NB: 0.966555\n",
      "SVM: 0.200669\n"
     ]
    },
    {
     "data": {
      "text/plain": [
       "<matplotlib.figure.Figure at 0x230696f1080>"
      ]
     },
     "metadata": {},
     "output_type": "display_data"
    }
   ],
   "source": [
    "# import the necessary packages\n",
    "import h5py\n",
    "import numpy as np\n",
    "import os\n",
    "import glob\n",
    "import cv2\n",
    "from matplotlib import pyplot\n",
    "from sklearn.model_selection import train_test_split, cross_val_score\n",
    "from sklearn.model_selection import KFold, StratifiedKFold\n",
    "from sklearn.metrics import confusion_matrix, accuracy_score, classification_report\n",
    "from sklearn.linear_model import LogisticRegression\n",
    "from sklearn.tree import DecisionTreeClassifier\n",
    "from sklearn.ensemble import RandomForestClassifier\n",
    "from sklearn.ensemble import AdaBoostClassifier\n",
    "from sklearn.ensemble import GradientBoostingClassifier\n",
    "from sklearn.neighbors import KNeighborsClassifier\n",
    "from sklearn.discriminant_analysis import LinearDiscriminantAnalysis\n",
    "from sklearn.naive_bayes import GaussianNB\n",
    "from sklearn.svm import SVC\n",
    "from sklearn.externals import joblib\n",
    "\n",
    "# create all the machine learning models\n",
    "models = []\n",
    "models.append(('LR', LogisticRegression(random_state=9)))\n",
    "models.append(('LDA', LinearDiscriminantAnalysis()))\n",
    "models.append(('KNN', KNeighborsClassifier()))\n",
    "models.append(('CART', DecisionTreeClassifier(random_state=9)))\n",
    "models.append(('RF', RandomForestClassifier(n_estimators=100, random_state=9)))\n",
    "models.append(('NB', GaussianNB()))\n",
    "models.append(('SVM', SVC(random_state=9)))\n",
    "\n",
    "# variables to hold the results and names\n",
    "results = []\n",
    "names = []\n",
    "scoring = \"accuracy\"\n",
    "\n",
    "# import the feature vector and trained labels\n",
    "h5f_x_train = h5py.File('x_train1.h5', 'r')\n",
    "h5f_y_train = h5py.File('y_train1.h5', 'r')\n",
    "\n",
    "h5f_x_test = h5py.File('x_test1.h5', 'r')\n",
    "h5f_y_test = h5py.File('y_test1.h5', 'r')\n",
    "\n",
    "global_features_string_train= h5f_x_train['dataset_1']\n",
    "global_labels_string_train = h5f_y_train['dataset_1']\n",
    "\n",
    "global_features_string_test = h5f_x_test['dataset_1']\n",
    "global_labels_string_test = h5f_y_test['dataset_1']\n",
    "\n",
    "print(global_features_string_train)\n",
    "global_features_train = np.array(global_features_string_train)\n",
    "global_labels_train = np.array(global_labels_string_train)\n",
    "global_features_test = np.array(global_features_string_test)\n",
    "global_labels_test = np.array(global_labels_string_test)\n",
    "\n",
    "h5f_x_train.close()\n",
    "h5f_y_train.close()\n",
    "h5f_x_test.close()\n",
    "h5f_x_test.close()\n",
    "\n",
    "trainDataGlobal = global_features_train\n",
    "testDataGlobal = global_features_test\n",
    "trainLabelsGlobal = global_labels_train\n",
    "testLabelsGlobal = global_labels_test\n",
    "# split the training and testing data\n",
    "#(trainDataGlobal, testDataGlobal, trainLabelsGlobal, testLabelsGlobal) = train_test_split(np.array(global_features),\n",
    "#                                                                                          np.array(global_labels),\n",
    "#                                                                                          test_size=test_size,\n",
    "#                                                                                          random_state=seed)\n",
    "\n",
    "\n",
    "print (\"Train data  : {}\".format(trainDataGlobal.shape))\n",
    "print (\"Test data   : {}\".format(testDataGlobal.shape))\n",
    "print (\"Train labels: {}\".format(trainLabelsGlobal.shape))\n",
    "print (\"Test labels : {}\".format(testLabelsGlobal.shape))\n",
    "\n",
    "# filter all the warnings\n",
    "import warnings\n",
    "warnings.filterwarnings('ignore')\n",
    "\n",
    "# 10-fold cross validation\n",
    "for name, model in models:\n",
    "    #kfold = KFold(n_splits=10, random_state=42)\n",
    "    #cv_results = cross_val_score(model, trainDataGlobal, trainLabelsGlobal, cv=kfold, scoring=scoring)\n",
    "    names.append(name)\n",
    "    model_temp = model.fit(trainDataGlobal,trainLabelsGlobal)\n",
    "    model_score = model_temp.score(testDataGlobal, testLabelsGlobal)\n",
    "    results.append(model_score)\n",
    "    msg = \"%s: %f\" % (name, model_score)\n",
    "    print(msg)\n",
    "\n",
    "# boxplot algorithm comparison\n",
    "fig = pyplot.figure()\n",
    "fig.suptitle('ML algorithm Food Classification Comparison')\n",
    "ax = fig.add_subplot(111)\n",
    "pyplot.bar(names,results)\n",
    "ax.set_xticklabels(names)\n",
    "pyplot.show()"
   ]
  },
  {
   "cell_type": "code",
   "execution_count": 2,
   "metadata": {},
   "outputs": [
    {
     "data": {
      "image/png": "[encoded data removed]",
      "text/plain": [
       "<matplotlib.figure.Figure at 0x23049f34b38>"
      ]
     },
     "metadata": {},
     "output_type": "display_data"
    }
   ],
   "source": [
    "# boxplot algorithm comparison\n",
    "fig = pyplot.figure()\n",
    "fig.suptitle('ML algorithm Food Classification Comparison')\n",
    "ax = fig.add_subplot(111)\n",
    "pyplot.bar(names,results)\n",
    "ax.set_xticklabels(names)\n",
    "pyplot.show()"
   ]
  },
  {
   "cell_type": "code",
   "execution_count": null,
   "metadata": {},
   "outputs": [],
   "source": []
  }
 ],
 "metadata": {
  "kernelspec": {
   "display_name": "Python 3",
   "language": "python",
   "name": "python3"
  },
  "language_info": {
   "codemirror_mode": {
    "name": "ipython",
    "version": 3
   },
   "file_extension": ".py",
   "mimetype": "text/x-python",
   "name": "python",
   "nbconvert_exporter": "python",
   "pygments_lexer": "ipython3",
   "version": "3.6.4"
  }
 },
 "nbformat": 4,
 "nbformat_minor": 2
}
